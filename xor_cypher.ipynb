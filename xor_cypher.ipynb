{
 "cells": [
  {
   "cell_type": "markdown",
   "metadata": {},
   "source": [
    "## Implementacao"
   ]
  },
  {
   "cell_type": "code",
   "execution_count": 1,
   "metadata": {},
   "outputs": [],
   "source": [
    "# xor cypher\n",
    "def xor_cypher(texto: str, chave: bytes):\n",
    "    ## Converte para binario\n",
    "    if isinstance(texto, str):\n",
    "        texto = texto.encode()\n",
    "    # Se a chave for menor que o texto, \n",
    "    if len(chave) < len(texto):\n",
    "        chave = chave * (len(texto) // len(chave)+1)\n",
    "        chave = chave[:len(texto)]\n",
    "\n",
    "    return bytes([x ^ y for x, y in zip(texto, chave)])"
   ]
  },
  {
   "cell_type": "code",
   "execution_count": 2,
   "metadata": {},
   "outputs": [],
   "source": [
    "texto_original = \"Felipe\"\n",
    "chave = b\"fhyh\""
   ]
  },
  {
   "cell_type": "markdown",
   "metadata": {},
   "source": [
    "## Criptografia\n",
    "Aplicacao da criptografia no texto, utilizando a chave"
   ]
  },
  {
   "cell_type": "code",
   "execution_count": 3,
   "metadata": {},
   "outputs": [
    {
     "data": {
      "text/plain": [
       "b' \\r\\x15\\x01\\x16\\r'"
      ]
     },
     "execution_count": 3,
     "metadata": {},
     "output_type": "execute_result"
    }
   ],
   "source": [
    "encrip = xor_cypher(texto_original, chave)\n",
    "encrip"
   ]
  },
  {
   "cell_type": "markdown",
   "metadata": {},
   "source": [
    "## Descriptografia\n",
    "Aplicacao da descriptografia no texto, utilizando a mesma chave"
   ]
  },
  {
   "cell_type": "code",
   "execution_count": 5,
   "metadata": {},
   "outputs": [
    {
     "data": {
      "text/plain": [
       "b'Felipe'"
      ]
     },
     "execution_count": 5,
     "metadata": {},
     "output_type": "execute_result"
    }
   ],
   "source": [
    "decript = xor_cypher(encrip, chave)\n",
    "decript"
   ]
  },
  {
   "cell_type": "markdown",
   "metadata": {},
   "source": []
  }
 ],
 "metadata": {
  "language_info": {
   "name": "python"
  }
 },
 "nbformat": 4,
 "nbformat_minor": 2
}
